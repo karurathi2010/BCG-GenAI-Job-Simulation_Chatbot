import pandas as pd


ms=pd.read_excel("Financial_Reports.xlsx")




ms


#  Calculate year-over-year growth rates for Total Revenue and Net Income
ms['Revenue Growth (%)'] = ms.groupby('Company')['Revenue'].pct_change() * 100
ms['Net Income Growth (%)'] = ms.groupby('Company')['Net income'].pct_change() * 100


# Fill NA values that result from pct_change calculations with 0 or an appropriate value
ms.fillna(0, inplace=True)

# Display the dataframe to verify the calculations
print(ms)

# Optionally, you could summarize these findings for each company
summary = ms.groupby('Company').agg({
    'Revenue Growth (%)': 'mean',
    'Net Income Growth (%)': 'mean'
}).reset_index()

print("\nYear-over-Year Average Growth Rates (%):")
print(summary)
